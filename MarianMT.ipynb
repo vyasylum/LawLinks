{
 "cells": [
  {
   "cell_type": "code",
   "execution_count": 1,
   "id": "f220447b-2c4a-4ddc-979b-8f69e6ebbfe8",
   "metadata": {},
   "outputs": [
    {
     "name": "stderr",
     "output_type": "stream",
     "text": [
      "C:\\Users\\enigma\\AppData\\Local\\Programs\\Python\\Python39\\lib\\site-packages\\torch\\_utils.py:776: UserWarning: TypedStorage is deprecated. It will be removed in the future and UntypedStorage will be the only storage class. This should only matter to you if you are using storages directly.  To access UntypedStorage directly, use tensor.untyped_storage() instead of tensor.storage()\n",
      "  return self.fget.__get__(instance, owner)()\n",
      "C:\\Users\\enigma\\AppData\\Local\\Programs\\Python\\Python39\\lib\\site-packages\\transformers\\models\\marian\\tokenization_marian.py:197: UserWarning: Recommended: pip install sacremoses.\n",
      "  warnings.warn(\"Recommended: pip install sacremoses.\")\n"
     ]
    }
   ],
   "source": [
    "from transformers import MarianMTModel, MarianTokenizer\n",
    "\n",
    "# Function to translate text using MarianMT\n",
    "def translate_text_with_marianmt(text, target_language=\"fr\"):\n",
    "    model_name = f'Helsinki-NLP/opus-mt-en-{target_language}'\n",
    "    model = MarianMTModel.from_pretrained(model_name)\n",
    "    tokenizer = MarianTokenizer.from_pretrained(model_name)\n",
    "\n",
    "    translated_text = model.generate(**tokenizer(text, return_tensors=\"pt\"), max_length=128, num_beams=4, early_stopping=True)\n",
    "    return tokenizer.decode(translated_text[0], skip_special_tokens=True)\n",
    "\n",
    "input_text = '''Art 8 • Vie privée et familiale • Refus des juridictions internes d’examiner \n",
    "l’action du requérant, affirmant être le père biologique d’un enfant, visant à \n",
    "contester la paternité légalement établie en vue de faire établir la sienne, en \n",
    "l’application des règles de computation du délai de forclusion de cinq ans \n",
    "combinées avec l’obligation d’attraire en la cause l’enfant • Requérant n’ayant \n",
    "pas agi dès la connaissance de sa paternité alors qu’il disposait d’un délai \n",
    "suffisant de plus de trois ans pour engager une action • Requérant ayant tardé à \n",
    "mettre dans la cause l’enfant sans justifier avoir pu ignorer l’existence de cette \n",
    "règle constante en droit interne • Conclusions des juridictions internes ni \n",
    "arbitraires ni déraisonnables • Refus fondé sur un lien de filiation déjà établi pour \n",
    "l’enfant et au regard de l’intérêt supérieur de ce dernier • Décisions judiciaires \n",
    "n’ayant pas abouti en pratique à priver le requérant de tout lien avec l’enfant • \n",
    "Juste équilibre ménagé entre les différents intérêts en présence'''\n",
    "\n",
    "translated_text = translate_text_with_marianmt(input_text, target_language=\"fr\")\n",
    "\n",
    "with open(\"translated_text.txt\", \"w\", encoding=\"utf-8\") as file:\n",
    "    file.write(translated_text)\n"
   ]
  },
  {
   "cell_type": "code",
   "execution_count": 2,
   "id": "1ad0b857-14fd-40c5-9824-a4f615f4c180",
   "metadata": {},
   "outputs": [],
   "source": [
    "# input_pdf_path = \"uploads/AFFAIRE C.P. ET M.N. c. FRANCE.pdf\"\n",
    "# output_pdf_path = \"translated_output.pdf\"\n",
    "\n",
    "# # Translate and create the new PDF\n",
    "# create_translated_pdf(input_pdf_path, output_pdf_path)\n",
    "\n",
    "# print(f\"Translation complete. Translated PDF saved at: {output_pdf_path}\")\n"
   ]
  },
  {
   "cell_type": "code",
   "execution_count": 3,
   "id": "6f5bccb7-db59-409c-9e54-51b267f09478",
   "metadata": {},
   "outputs": [
    {
     "name": "stderr",
     "output_type": "stream",
     "text": [
      "C:\\Users\\enigma\\AppData\\Local\\Programs\\Python\\Python39\\lib\\site-packages\\transformers\\models\\marian\\tokenization_marian.py:197: UserWarning: Recommended: pip install sacremoses.\n",
      "  warnings.warn(\"Recommended: pip install sacremoses.\")\n"
     ]
    },
    {
     "name": "stdout",
     "output_type": "stream",
     "text": [
      "Translated text: Art. 8 • Private and family life • Refusal of domestic courts to examine the applicant's action, claiming to be the biological father of a child, to challenge the legally established paternity with a view to establishing his/her own, in application of the rules for calculating the five-year period of foreclosure combined with the obligation of attrition in the case of the child • Complainant who did not act as soon as he/she knew his/her fatherhood when he/she had sufficient time to initiate an action • Complainant who delayed bringing the child into the case without having been able to ignore the existence of this constant rule in domestic law • Findings of internal courts neither arbitrary nor unreasonable • Refusal based on a filiation link already established for the child and in view of the best interests of the child • Judicial decisions which did not in practice lead to depriving the applicant of any connection with the child • Fair balance between the various interests involved\n"
     ]
    }
   ],
   "source": [
    "from transformers import MarianMTModel, MarianTokenizer\n",
    "\n",
    "def translate_text_with_marianmt(text, target_language=\"en\"):\n",
    "    model_name = f'Helsinki-NLP/opus-mt-{target_language}-en'  # Replace \"en\" with the desired target language code\n",
    "    tokenizer = MarianTokenizer.from_pretrained(model_name)\n",
    "    model = MarianMTModel.from_pretrained(model_name)\n",
    "\n",
    "    # Tokenize the input text\n",
    "    inputs = tokenizer(text, return_tensors=\"pt\", max_length=512, truncation=True, padding=True)\n",
    "\n",
    "    #translate\n",
    "    translation_ids = model.generate(**inputs, num_beams=4, max_length=512, early_stopping=True)\n",
    "    translated_text = tokenizer.decode(translation_ids[0], skip_special_tokens=True)\n",
    "\n",
    "    return translated_text\n",
    "\n",
    "input_text = \"\"\"Art 8 • Vie privée et familiale • Refus des juridictions internes d’examiner \n",
    "l’action du requérant, affirmant être le père biologique d’un enfant, visant à \n",
    "contester la paternité légalement établie en vue de faire établir la sienne, en \n",
    "l’application des règles de computation du délai de forclusion de cinq ans \n",
    "combinées avec l’obligation d’attraire en la cause l’enfant • Requérant n’ayant \n",
    "pas agi dès la connaissance de sa paternité alors qu’il disposait d’un délai \n",
    "suffisant de plus de trois ans pour engager une action • Requérant ayant tardé à \n",
    "mettre dans la cause l’enfant sans justifier avoir pu ignorer l’existence de cette \n",
    "règle constante en droit interne • Conclusions des juridictions internes ni \n",
    "arbitraires ni déraisonnables • Refus fondé sur un lien de filiation déjà établi pour \n",
    "l’enfant et au regard de l’intérêt supérieur de ce dernier • Décisions judiciaires \n",
    "n’ayant pas abouti en pratique à priver le requérant de tout lien avec l’enfant • \n",
    "Juste équilibre ménagé entre les différents intérêts en présence\"\"\"\n",
    "target_language = \"fr\"  #\"fr\" for French\n",
    "\n",
    "translated_text = translate_text_with_marianmt(input_text, target_language)\n",
    "print(\"Translated text:\", translated_text)\n"
   ]
  },
  {
   "cell_type": "code",
   "execution_count": 4,
   "id": "40ed0199-f738-4b26-acd5-06222c0a2592",
   "metadata": {},
   "outputs": [],
   "source": [
    "from transformers import MarianMTModel, MarianTokenizer\n",
    "from PyPDF2 import PdfReader\n",
    "\n",
    "#init the Marian NMT model and tokenizer\n",
    "model_name = \"Helsinki-NLP/opus-mt-ROMANCE-en\"  # Replace with the model of your choice\n",
    "model = MarianMTModel.from_pretrained(model_name)\n",
    "tokenizer = MarianTokenizer.from_pretrained(model_name)\n",
    "\n",
    "def translate_text(text, target_language=\"en\"):\n",
    "    #spliting the text into segments of 1024 tokens or less\n",
    "    max_segment_length = 1024\n",
    "    text_segments = [text[i:i+max_segment_length] for i in range(0, len(text), max_segment_length)]\n",
    "    \n",
    "    translated_segments = []\n",
    "    for segment in text_segments:\n",
    "        inputs = tokenizer(segment, return_tensors=\"pt\", max_length=max_segment_length, truncation=True, padding=True)\n",
    "        translated = model.generate(**inputs, max_length=max_segment_length, num_beams=4, early_stopping=True, \n",
    "                                    length_penalty=2.0, no_repeat_ngram_size=3, num_return_sequences=1)\n",
    "        translated_text = tokenizer.batch_decode(translated, skip_special_tokens=True)\n",
    "        translated_segments.append(translated_text[0])\n",
    "    \n",
    "    return \" \".join(translated_segments)\n",
    "\n",
    "def translate_pdf(input_pdf_path, output_txt_path, target_language=\"en\"):\n",
    "    pdf_reader = PdfReader(input_pdf_path)\n",
    "\n",
    "    with open(output_txt_path, \"w\", encoding=\"utf-8\") as output_txt:\n",
    "        # Iterate through pages in the original PDF\n",
    "        for page in pdf_reader.pages:\n",
    "            text = page.extract_text()\n",
    "            translated_text = translate_text(text, target_language)\n",
    "            output_txt.write(translated_text)\n",
    "\n",
    "# # Example usage\n",
    "# input_pdf_path = \"input.pdf\"  # Replace with the path to your input PDF file\n",
    "# output_txt_path = \"translated_output.txt\"  # Replace with the desired output text file path\n",
    "# target_language = \"en\"  # Replace with the target language code, e.g., \"fr\" for French\n",
    "\n",
    "# translate_pdf(input_pdf_path, output_txt_path, target_language)\n"
   ]
  },
  {
   "cell_type": "code",
   "execution_count": 11,
   "id": "62cdfc8b",
   "metadata": {},
   "outputs": [],
   "source": []
  },
  {
   "cell_type": "code",
   "execution_count": 11,
   "id": "f9a01807-b954-4a40-89e5-b9dc644d60f4",
   "metadata": {},
   "outputs": [],
   "source": [
    "input_pdf_path = C:\\Users\\enigma\\Desktop\\Atharv\\LawLinks_Final/Case Files/AFFAIRE C.P. ET M.N. c. FRANCE.pdf\"  \n",
    "output_pdf_path = \"frMNMTtranslated_output1.txt\"  \n",
    "target_language = [\"en\"]  \n",
    "\n",
    "translate_pdf(input_pdf_path, output_pdf_path, target_language)"
   ]
  },
  {
   "cell_type": "code",
   "execution_count": 14,
   "id": "9a69d4d4-45dc-4ca5-9916-483bab50e439",
   "metadata": {},
   "outputs": [],
   "source": [
    "from reportlab.lib.pagesizes import letter\n",
    "from reportlab.platypus import SimpleDocTemplate, Paragraph\n",
    "from reportlab.lib.styles import getSampleStyleSheet\n",
    "\n",
    "def create_pdf_from_text(input_txt_path, output_pdf_path):\n",
    "    doc = SimpleDocTemplate(output_pdf_path, pagesize=letter)\n",
    "    styles = getSampleStyleSheet()\n",
    "\n",
    "    translated_text = \"\"\n",
    "    with open(input_txt_path, \"r\", encoding=\"utf-8\") as input_txt:\n",
    "        translated_text = input_txt.read()\n",
    "\n",
    "    story = []\n",
    "    paragraph = Paragraph(translated_text, styles[\"Normal\"])\n",
    "    story.append(paragraph)\n",
    "\n",
    "    doc.build(story)\n",
    "\n",
    "# Example usage\n",
    "input_txt_path = \"frMNMTtranslated_output1.txt\"  # Replace with the path to your translated text file\n",
    "output_pdf_path = \"frmmmttranslated_output.pdf\"  # Replace with the desired output PDF file path\n",
    "\n",
    "create_pdf_from_text(input_txt_path, output_pdf_path)\n"
   ]
  },
  {
   "cell_type": "code",
   "execution_count": null,
   "id": "3d77bf84-a187-43be-abea-a52addcc6ebb",
   "metadata": {},
   "outputs": [],
   "source": []
  }
 ],
 "metadata": {
  "kernelspec": {
   "display_name": "Python 3 (ipykernel)",
   "language": "python",
   "name": "python3"
  },
  "language_info": {
   "codemirror_mode": {
    "name": "ipython",
    "version": 3
   },
   "file_extension": ".py",
   "mimetype": "text/x-python",
   "name": "python",
   "nbconvert_exporter": "python",
   "pygments_lexer": "ipython3",
   "version": "3.9.13"
  }
 },
 "nbformat": 4,
 "nbformat_minor": 5
}
